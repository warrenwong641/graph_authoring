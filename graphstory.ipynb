{
 "cells": [
  {
   "cell_type": "code",
   "execution_count": 1,
   "metadata": {},
   "outputs": [],
   "source": [
    "import os\n",
    "import json\n",
    "from langchain_openai import AzureChatOpenAI\n",
    "import openai\n",
    "import random\n",
    "with open(\"../config.json\") as config_file:\n",
    "    config = json.load(config_file)\n",
    "\n",
    "os.environ[\"AZURE_OPENAI_API_KEY\"] = config[\"SECRET_KEY_OPENAI\"]\n",
    "os.environ[\"AZURE_OPENAI_ENDPOINT\"] = config[\"BASE_URL\"]\n",
    "os.environ[\"AZURE_OPENAI_API_VERSION\"] = \"2023-05-15\"\n",
    "os.environ[\"OPENAI_API_TYPE\"] = \"azure\"\n",
    "os.environ[\"TAVILY_API_KEY\"] = config[\"TAVILY_API_KEY\"]\n",
    "\n",
    "llm = AzureChatOpenAI(\n",
    "        deployment_name=\"gpt-35-turbo\", \n",
    "        azure_endpoint=os.environ[\"AZURE_OPENAI_ENDPOINT\"],\n",
    "        openai_api_version=os.environ[\"AZURE_OPENAI_API_VERSION\"],\n",
    "        openai_api_key=os.environ[\"AZURE_OPENAI_API_KEY\"],\n",
    "        model_name=\"gpt-35-turbo\" \n",
    "    )\n",
    "\n"
   ]
  },
  {
   "cell_type": "code",
   "execution_count": 2,
   "metadata": {},
   "outputs": [],
   "source": [
    "from langchain_community.graphs import Neo4jGraph\n",
    "\n",
    "os.environ[\"NEO4J_URI\"] = \"bolt://localhost:7687\"\n",
    "os.environ[\"NEO4J_USERNAME\"] = \"neo4j\"\n",
    "os.environ[\"NEO4J_PASSWORD\"] = \"abc123456\""
   ]
  },
  {
   "cell_type": "code",
   "execution_count": 3,
   "metadata": {},
   "outputs": [],
   "source": [
    "stage_dict = {\n",
    "    1:[2,3,4,5],\n",
    "}"
   ]
  },
  {
   "cell_type": "code",
   "execution_count": 4,
   "metadata": {},
   "outputs": [],
   "source": [
    "user_prompt_template = \"\"\"System prompt: This is the structure of the whole story [graph, defined\n",
    "by the author], currently it is in [stage 2], you should follow these\n",
    "components:\n",
    "event: 来自当前阶段用户定义的卡片的内容\n",
    "character: 来自当前阶段用户定义的卡片的内容\n",
    "the player's input: 来自当前阶段用户定义的卡片的内容\n",
    "You should output the narrative....\"\"\""
   ]
  },
  {
   "cell_type": "code",
   "execution_count": 5,
   "metadata": {},
   "outputs": [],
   "source": [
    "\n",
    "\n",
    "def read_file_to_string(file_path):\n",
    "    with open(file_path, 'r') as file:\n",
    "        content = file.read()\n",
    "    return content"
   ]
  },
  {
   "cell_type": "code",
   "execution_count": 6,
   "metadata": {},
   "outputs": [
    {
     "name": "stdout",
     "output_type": "stream",
     "text": [
      "# Undersea Adventures: Journey to the Earth's Core\n",
      "\n",
      "In a distant future, humanity has crafted an extraordinary civilization beneath the waves. Advanced undersea cities, with their transparent domes and high-tech architecture, serve as vibrant habitats for people. These bustling metropolises feature underwater transportation systems and innovative agricultural methods, making life beneath the ocean both exciting and sustainable.\n",
      "\n",
      "Deep-sea exploration has become more than a scientific pursuit; it’s a thrilling adventure that invites danger and discovery. Nations collaborate to uncover the secrets hidden in the ocean depths, pushing the boundaries of human knowledge and imagination.\n",
      "\n",
      "Beneath this watery expanse lies the enchanting World of the Earth's Core. Here, lush forests and towering mountains thrive in a subterranean realm, illuminated by the glow of luminescent plants and creatures. Ancient civilizations have flourished for millennia, harnessing mysterious energies that shape their reality. Yet, lurking in these depths are Titanic Monsters—colossal beings that inspire both awe and fear.\n",
      "\n",
      "Among the adventurers embarking on a mission to this magical world are Arial, Paul, Luis, and Jacob. \n",
      "\n",
      "**Arial** is a brave and determined young woman, always eager to explore the unknown. With her nurturing spirit, she cares deeply for her friends, especially her boyfriend, Paul. Known for her leadership skills, she faces challenges with calm resolve.\n",
      "\n",
      "**Paul** is an optimistic and witty adventurer, passionate about discovery. He supports Arial in her pursuits and looks after his younger brother, Luis, providing guidance and encouragement along their journey.\n",
      "\n",
      "**Luis** is energetic and curious, always striving to emulate his brother. With his sharp intuition, he contributes fresh ideas and solutions to the team, eager to learn and grow through their adventures.\n",
      "\n",
      "**Jacob**, a talented and intelligent classmate of Arial and Paul, provides valuable insights with his extensive knowledge. Calm and analytical, he plays a crucial role in guiding the team through obstacles.\n",
      "\n",
      "The team has been assigned a mission by the research institute: to venture into the World of the Earth's Core and locate two sources of energy. As the player, you join Arial, Paul, Luis, and Jacob on this expedition, ready to explore uncharted territories.\n",
      "\n",
      "As the journey unfolds, you will encounter breathtaking landscapes and face unforeseen challenges. You must make critical decisions, including how to allocate the team for their exploration. Upon arriving in the Earth's Core, the group must separate to efficiently find the energy sources. \n",
      "\n",
      "With choices to be made—whether to pair Arial and Paul, team up with Luis, or join Jacob—you will guide the adventure, shaping the path and experiences of this brave team. Each decision will lead you deeper into the wonders and dangers of this enchanting world, ultimately revealing its hidden secrets.\n"
     ]
    }
   ],
   "source": [
    "file_path = 'stage1.txt'\n",
    "file_content = read_file_to_string(file_path)\n",
    "print(file_content)"
   ]
  },
  {
   "cell_type": "code",
   "execution_count": 7,
   "metadata": {},
   "outputs": [],
   "source": [
    "def generate_prompt(curr_input, prompt_lib_file): \n",
    "  \"\"\"\n",
    "  Takes in the current input (e.g. comment that you want to classifiy) and \n",
    "  the path to a prompt file. The prompt file contains the raw str prompt that\n",
    "  will be used, which contains the following substr: !<INPUT>! -- this \n",
    "  function replaces this substr with the actual curr_input to produce the \n",
    "  final promopt that will be sent to the GPT3 server. \n",
    "  ARGS:\n",
    "    curr_input: the input we want to feed in (IF THERE ARE MORE THAN ONE\n",
    "                INPUT, THIS CAN BE A LIST.)\n",
    "    prompt_lib_file: the path to the promopt file. \n",
    "  RETURNS: \n",
    "    a str prompt that will be sent to OpenAI's GPT server.  \n",
    "  \"\"\"\n",
    "  if type(curr_input) == type(\"string\"): \n",
    "    curr_input = [curr_input]\n",
    "  curr_input = [str(i) for i in curr_input]\n",
    "\n",
    "  f = open(prompt_lib_file, \"r\")\n",
    "  prompt = f.read()\n",
    "  f.close()\n",
    "  for count, i in enumerate(curr_input):   \n",
    "    prompt = prompt.replace(f\"!<INPUT {count}>!\", i)\n",
    "  if \"<commentblockmarker>###</commentblockmarker>\" in prompt: \n",
    "    prompt = prompt.split(\"<commentblockmarker>###</commentblockmarker>\")[1]\n",
    "  return prompt.strip()\n",
    "\n",
    "prompt = generate_prompt(file_content,r'C:\\Users\\user\\Desktop\\UROP2100M\\Stanford_AItown\\reverie\\backend_server\\persona\\prompt_template\\v3_ChatGPT\\get_entity.txt' )"
   ]
  },
  {
   "cell_type": "code",
   "execution_count": 8,
   "metadata": {},
   "outputs": [
    {
     "name": "stdout",
     "output_type": "stream",
     "text": [
      "('Given a text description of an event or a conversation, output CSV '\n",
      " \"(comma-separated values) of all the people's name, the object people \"\n",
      " 'interact and the place the people are in about the description.\\n'\n",
      " 'Below is the format of the output. \\n'\n",
      " 'Description of an event or a conversation: [Provided]\\n'\n",
      " \"People's name, the object people interact and the place the people are in: \"\n",
      " '[Fill in]\\n'\n",
      " '===\\n'\n",
      " 'Description of an event or a conversation: # Undersea Adventures: Journey to '\n",
      " \"the Earth's Core\\n\"\n",
      " '\\n'\n",
      " 'In a distant future, humanity has crafted an extraordinary civilization '\n",
      " 'beneath the waves. Advanced undersea cities, with their transparent domes '\n",
      " 'and high-tech architecture, serve as vibrant habitats for people. These '\n",
      " 'bustling metropolises feature underwater transportation systems and '\n",
      " 'innovative agricultural methods, making life beneath the ocean both exciting '\n",
      " 'and sustainable.\\n'\n",
      " '\\n'\n",
      " 'Deep-sea exploration has become more than a scientific pursuit; it’s a '\n",
      " 'thrilling adventure that invites danger and discovery. Nations collaborate '\n",
      " 'to uncover the secrets hidden in the ocean depths, pushing the boundaries of '\n",
      " 'human knowledge and imagination.\\n'\n",
      " '\\n'\n",
      " \"Beneath this watery expanse lies the enchanting World of the Earth's Core. \"\n",
      " 'Here, lush forests and towering mountains thrive in a subterranean realm, '\n",
      " 'illuminated by the glow of luminescent plants and creatures. Ancient '\n",
      " 'civilizations have flourished for millennia, harnessing mysterious energies '\n",
      " 'that shape their reality. Yet, lurking in these depths are Titanic '\n",
      " 'Monsters—colossal beings that inspire both awe and fear.\\n'\n",
      " '\\n'\n",
      " 'Among the adventurers embarking on a mission to this magical world are '\n",
      " 'Arial, Paul, Luis, and Jacob. \\n'\n",
      " '\\n'\n",
      " '**Arial** is a brave and determined young woman, always eager to explore the '\n",
      " 'unknown. With her nurturing spirit, she cares deeply for her friends, '\n",
      " 'especially her boyfriend, Paul. Known for her leadership skills, she faces '\n",
      " 'challenges with calm resolve.\\n'\n",
      " '\\n'\n",
      " '**Paul** is an optimistic and witty adventurer, passionate about discovery. '\n",
      " 'He supports Arial in her pursuits and looks after his younger brother, Luis, '\n",
      " 'providing guidance and encouragement along their journey.\\n'\n",
      " '\\n'\n",
      " '**Luis** is energetic and curious, always striving to emulate his brother. '\n",
      " 'With his sharp intuition, he contributes fresh ideas and solutions to the '\n",
      " 'team, eager to learn and grow through their adventures.\\n'\n",
      " '\\n'\n",
      " '**Jacob**, a talented and intelligent classmate of Arial and Paul, provides '\n",
      " 'valuable insights with his extensive knowledge. Calm and analytical, he '\n",
      " 'plays a crucial role in guiding the team through obstacles.\\n'\n",
      " '\\n'\n",
      " 'The team has been assigned a mission by the research institute: to venture '\n",
      " \"into the World of the Earth's Core and locate two sources of energy. As the \"\n",
      " 'player, you join Arial, Paul, Luis, and Jacob on this expedition, ready to '\n",
      " 'explore uncharted territories.\\n'\n",
      " '\\n'\n",
      " 'As the journey unfolds, you will encounter breathtaking landscapes and face '\n",
      " 'unforeseen challenges. You must make critical decisions, including how to '\n",
      " \"allocate the team for their exploration. Upon arriving in the Earth's Core, \"\n",
      " 'the group must separate to efficiently find the energy sources. \\n'\n",
      " '\\n'\n",
      " 'With choices to be made—whether to pair Arial and Paul, team up with Luis, '\n",
      " 'or join Jacob—you will guide the adventure, shaping the path and experiences '\n",
      " 'of this brave team. Each decision will lead you deeper into the wonders and '\n",
      " 'dangers of this enchanting world, ultimately revealing its hidden secrets.\\n'\n",
      " \"People's name, the object people interact and the place the people are in:\")\n"
     ]
    }
   ],
   "source": [
    "import pprint as pprint\n",
    "pprint.pprint(prompt)"
   ]
  },
  {
   "cell_type": "code",
   "execution_count": 9,
   "metadata": {},
   "outputs": [],
   "source": [
    "from typing import Annotated, Literal\n",
    "\n",
    "from langchain_anthropic import ChatAnthropic\n",
    "from langchain_community.tools.tavily_search import TavilySearchResults\n",
    "from langchain_core.messages import AIMessage, BaseMessage, ToolMessage\n",
    "from langchain_core.pydantic_v1 import BaseModel\n",
    "from typing_extensions import TypedDict\n",
    "from langchain_core.tools import tool\n",
    "from langgraph.checkpoint.sqlite import SqliteSaver\n",
    "from langgraph.graph import StateGraph, START\n",
    "from langgraph.graph.message import add_messages\n",
    "from langgraph.prebuilt import ToolNode, tools_condition\n",
    "from langchain_core.documents import Document\n",
    "from langchain_experimental.graph_transformers import LLMGraphTransformer\n",
    "from langchain.chains import GraphCypherQAChain\n",
    "from langchain_core.prompts.prompt import PromptTemplate\n",
    "from langgraph.checkpoint.sqlite import SqliteSaver\n",
    "\n",
    "graph = Neo4jGraph()\n",
    "\n",
    "class State(TypedDict):\n",
    "    messages: Annotated[list, add_messages]\n",
    "    # This flag is new\n",
    "    custom_ouput: bool\n",
    "\n",
    "class OutputbyUser(BaseModel):\n",
    "    \"\"\"\n",
    "    Represents the output generated by a user during a paused step in the graph.\n",
    "\n",
    "    The `OutputbyUser` class allows users to pause the graph and provide their input.\n",
    "    It captures the user's request and stores it as the `request` attribute.\n",
    "\n",
    "    Attributes:\n",
    "        request (str): The request made by the user during the paused step.\n",
    "\n",
    "    \"\"\"\n",
    "    request: str\n",
    "\n",
    "class Graphretriever:\n",
    "    def __init__(self, docs ,graph_docs, graph):\n",
    "        self._graph_docs = graph_docs \n",
    "        self._docs = docs\n",
    "        self._graph = graph\n",
    "\n",
    "    @classmethod\n",
    "    def from_docs(cls, docs,graph):\n",
    "        docs = [Document(page_content=docs)]\n",
    "        llm_transformer = LLMGraphTransformer(llm=llm,\n",
    "                                              allowed_nodes=[\"Person\", \"Location\", \"Buildings\", \"Items\",'Animal', 'Robots', 'Time', 'Year'],\n",
    "    allowed_relationships=[\"HAVE_USED\", \"LOCATED_IN\", \"WORKED_AT\", \"SPOUSE\", 'FRIEND', \"ENEMY\", \"MENTOR\", \"LIKE\", \"LOVE\", \"DISLIKE\", \"HAVE_SEEN\", 'HAVE_CREATE', \"IS_BORNED\",\n",
    "                           'HAS_DIE', 'PET', \"HAVE_BUILDING\",\"INSIDE\", \"HAS_MADE\", 'HAS', 'Has_FACILITY'],\n",
    "    node_properties=[\"born_year\", 'dead_year', 'married_year', 'time_start_work', \"build_time\", \"first_appear_time\", 'country', \n",
    "                     'function', 'creator', 'event_in'],)\n",
    "        graph_docs = llm_transformer.convert_to_graph_documents(docs)\n",
    "        graph.add_graph_documents(graph_docs)\n",
    "        graph.refresh_schema()\n",
    "        return cls(docs,graph_docs, graph)\n",
    "\n",
    "    def query(self, query: str):\n",
    "        CYPHER_GENERATION_TEMPLATE = \"\"\"Task:Generate Cypher statement to query a graph database.\n",
    "        Instructions:\n",
    "        Use only the provided relationship types and properties in the schema.\n",
    "        Do not use any other relationship types or properties that are not provided.\n",
    "        Schema:\n",
    "        {schema}\n",
    "        Note: Do not include any explanations or apologies in your responses.\n",
    "        Do not respond to any questions that might ask anything else than for you to construct a Cypher statement.\n",
    "        Do not include any text except the generated Cypher statement.\n",
    "        Examples: Here are a few examples of generated Cypher statements for particular questions:\n",
    "        # How many people played in Top Gun?\n",
    "        MATCH (m:Movie {{name:\"Top Gun\"}})<-[:ACTED_IN]-()\n",
    "        RETURN count(*) AS numberOfActors\n",
    "\n",
    "        The question is:\n",
    "        {question}\"\"\"\n",
    "        CYPHER_GENERATION_PROMPT = PromptTemplate(\n",
    "            input_variables=[\"schema\", \"question\"], template=CYPHER_GENERATION_TEMPLATE\n",
    "        )\n",
    "        chain = GraphCypherQAChain.from_llm(\n",
    "            llm, graph=self._graph, verbose=True,cypher_prompt=CYPHER_GENERATION_PROMPT, validate_cypher=True,\n",
    "                )\n",
    "        return chain\n",
    "\n",
    "\n",
    "retriever = Graphretriever.from_docs( '''Humanity has developed an advanced undersea civilization in the future. Undersea cities have become the primary habitats for humans, featuring high-tech architecture and facilities, including transparent domes, underwater transportation systems, underwater agriculture, and energy development facilities.''',graph)\n",
    "\n",
    "@tool\n",
    "def documentLookup(arg: str):\n",
    "    \"\"\"\n",
    "    Perform a lookup in the graph of relationships with entities such as events, people, places, and objects.\n",
    "\n",
    "    The function takes a query string as input and searches for relevant information in the graph.\n",
    "    It uses the `retriever` object to execute the query and retrieve the desired results.\n",
    "\n",
    "    \"\"\"\n",
    "    query = arg\n",
    "    prompt_template = '''Find all the entities like person, buildings, locations, items , animal, robots, time ,year and another other thing that is interesting the graph. And find all the relationship between them, please\n",
    "     note that the allowed relationship are \"born_year\", 'dead_year', 'married_year', 'time_start_work', \"build_time\", \"first_appear_time\", 'country', \n",
    "                     'function', 'creator', 'event_in'. \n",
    "                      Also assign suitable properties to the nodes like \"born_year\", 'dead_year', 'married_year', 'time_start_work', \"build_time\", \"first_appear_time\", 'country', \n",
    "                     'function', 'creator', 'event_in'. \n",
    "                       {query}'''\n",
    "    prompt = prompt_template.format(query=query)\n",
    "    chain = retriever.query(prompt)\n",
    "    res = chain.run(query)\n",
    "    # output = []\n",
    "    # output.append(\n",
    "    #     ToolMessage(\n",
    "    #                 content=json.dumps(res),\n",
    "    #                 name='documentLookup',\n",
    "    #                 tool_call_id=tool_call[\"id\"],\n",
    "    # )\n",
    "    return res\n",
    "\n",
    "class BasicToolNode:\n",
    "    \"\"\"A node that runs the tools requested in the last AIMessage.\"\"\"\n",
    "\n",
    "    def __init__(self, tools: list) -> None:\n",
    "        self.tools_by_name = {tool.name: tool for tool in tools}\n",
    "\n",
    "    def __call__(self, inputs: dict):\n",
    "        if messages := inputs.get(\"messages\", []):\n",
    "            message = messages[-1]\n",
    "        else:\n",
    "            raise ValueError(\"No message found in input\")\n",
    "        outputs = []\n",
    "        for tool_call in message.tool_calls:\n",
    "            tool_result = self.tools_by_name[tool_call[\"name\"]].invoke(\n",
    "                tool_call[\"args\"]\n",
    "            )\n",
    "            outputs.append(\n",
    "                ToolMessage(\n",
    "                    content=json.dumps(tool_result),\n",
    "                    name=tool_call[\"name\"],\n",
    "                    tool_call_id=tool_call[\"id\"],\n",
    "                )\n",
    "            )\n",
    "        return {\"messages\": outputs}\n",
    "\n",
    "tavily = TavilySearchResults(max_results=2)\n",
    "tavily = [tavily]\n",
    "# We can bind the llm to a tool definition, a pydantic model, or a json schema\n",
    "llm_with_tools = llm.bind_tools(tavily +[ OutputbyUser, documentLookup])\n"
   ]
  },
  {
   "cell_type": "code",
   "execution_count": 10,
   "metadata": {},
   "outputs": [],
   "source": [
    "def chatbot(state: State):\n",
    "    response = llm_with_tools.invoke(state[\"messages\"])\n",
    "    custom_ouput = False\n",
    "    print(f'{response.tool_calls}')\n",
    "    if (\n",
    "        response.tool_calls\n",
    "        and response.tool_calls[0][\"name\"] == OutputbyUser.__name__\n",
    "    ):\n",
    "        custom_ouput = True\n",
    "    return {\"messages\": [response], \"custom_ouput\": custom_ouput}\n",
    "\n",
    "# def tool_router(state):\n",
    "#     if state[\"custom_ouput\"]:\n",
    "#         return 'human'\n",
    "#     messages = state[\"messages\"]\n",
    "#     last_message = messages[-1]\n",
    "#     toolcalllist = []\n",
    "#     for tool in  last_message.tool_calls:\n",
    "#         toolcalllist.append(tool[\"name\"])\n",
    "#     if documentLookup in toolcalllist:\n",
    "#         return \"lookup\"\n",
    "#     return \"__end__\"\n",
    "def route_tools(\n",
    "    state: State,\n",
    ") -> Literal[\"tools\", \"__end__\"]:\n",
    "    \"\"\"\n",
    "    Use in the conditional_edge to route to the ToolNode if the last message\n",
    "    has tool calls. Otherwise, route to the end.\n",
    "    \"\"\"\n",
    "    if state[\"custom_ouput\"]:\n",
    "        return 'human'\n",
    "    if isinstance(state, list):\n",
    "        ai_message = state[-1]\n",
    "    elif messages := state.get(\"messages\", []):\n",
    "        ai_message = messages[-1]\n",
    "    else:\n",
    "        raise ValueError(f\"No messages found in input state to tool_edge: {state}\")\n",
    "    if hasattr(ai_message, \"tool_calls\") and len(ai_message.tool_calls) > 0:\n",
    "        return \"tools\"\n",
    "    return \"__end__\"\n"
   ]
  },
  {
   "cell_type": "code",
   "execution_count": 11,
   "metadata": {},
   "outputs": [],
   "source": [
    "graph_builder = StateGraph(State)\n",
    "tool_node = BasicToolNode(tools=tavily + [documentLookup])\n",
    "graph_builder.add_node(\"tools\", tool_node)\n",
    "\n",
    "graph_builder.add_node(\"chatbot\", chatbot)\n",
    "graph_builder.add_edge(\"__start__\", \"chatbot\")\n"
   ]
  },
  {
   "cell_type": "code",
   "execution_count": 12,
   "metadata": {},
   "outputs": [],
   "source": [
    "def create_response(response: str, ai_message: AIMessage):\n",
    "    for tool_call in ai_message.tool_calls:\n",
    "        if tool_call[\"name\"] == OutputbyUser.__name__:\n",
    "            return ToolMessage(\n",
    "                content=response,\n",
    "                tool_call_id=tool_call[\"id\"],\n",
    "            )"
   ]
  },
  {
   "cell_type": "code",
   "execution_count": 13,
   "metadata": {},
   "outputs": [],
   "source": [
    "def human_node(state: State):\n",
    "    new_messages = []\n",
    "    if not isinstance(state[\"messages\"][-1], ToolMessage):\n",
    "        # Typically, the user will have updated the state during the interrupt.\n",
    "        # If they choose not to, we will include a placeholder ToolMessage to\n",
    "        # let the LLM continue.\n",
    "        new_messages.append(\n",
    "            create_response(\"No response from human.\", state[\"messages\"][-1])\n",
    "        )\n",
    "    return {\n",
    "        # Append the new messages\n",
    "        \"messages\": new_messages,\n",
    "        # Unset the flag\n",
    "        \"ask_human\": False,\n",
    "    }"
   ]
  },
  {
   "cell_type": "code",
   "execution_count": 14,
   "metadata": {},
   "outputs": [],
   "source": [
    "graph_builder.add_node(\"human\", human_node)"
   ]
  },
  {
   "cell_type": "code",
   "execution_count": 15,
   "metadata": {},
   "outputs": [],
   "source": [
    "graph_builder.add_conditional_edges(\n",
    "    \"chatbot\",\n",
    "    route_tools,\n",
    "    {\"tools\": \"tools\", \"human\": \"human\", \"__end__\": \"__end__\"},\n",
    ")"
   ]
  },
  {
   "cell_type": "code",
   "execution_count": 16,
   "metadata": {},
   "outputs": [],
   "source": [
    "memory = SqliteSaver.from_conn_string(\":memory:\")"
   ]
  },
  {
   "cell_type": "code",
   "execution_count": 17,
   "metadata": {},
   "outputs": [],
   "source": [
    "graph_builder.add_edge(\"tools\", \"chatbot\")\n",
    "graph_builder.add_edge(\"human\", \"chatbot\")\n",
    "state_graph = graph_builder.compile(\n",
    "    checkpointer=memory,\n",
    "    interrupt_before=[\"human\"],\n",
    ")"
   ]
  },
  {
   "cell_type": "code",
   "execution_count": 18,
   "metadata": {},
   "outputs": [
    {
     "data": {
      "image/jpeg": "[encoded data removed]",
      "text/plain": [
       "<IPython.core.display.Image object>"
      ]
     },
     "metadata": {},
     "output_type": "display_data"
    }
   ],
   "source": [
    "from IPython.display import Image, display\n",
    "\n",
    "try:\n",
    "    display(Image(state_graph.get_graph().draw_mermaid_png()))\n",
    "except Exception:\n",
    "    # This requires some extra dependencies and is optional\n",
    "    pass"
   ]
  },
  {
   "cell_type": "code",
   "execution_count": 19,
   "metadata": {},
   "outputs": [],
   "source": [
    "# docs = '''Humanity has developed an advanced undersea civilization in the future. Undersea cities have become the primary habitats for humans, featuring high-tech architecture and facilities, including transparent domes, underwater transportation systems, underwater agriculture, and energy development facilities.'''\n",
    "# docs = [Document(page_content=docs)]\n",
    "# llm_transformer = LLMGraphTransformer(llm=llm)\n",
    "# graph_docs = llm_transformer.convert_to_graph_documents(docs)\n",
    "# print(f\"Nodes:{graph_docs[0].nodes}\")\n",
    "# print(f\"Relationships:{graph_docs[0].relationships}\")"
   ]
  },
  {
   "cell_type": "code",
   "execution_count": 20,
   "metadata": {},
   "outputs": [],
   "source": [
    "# graph.add_graph_documents(graph_docs)"
   ]
  },
  {
   "cell_type": "code",
   "execution_count": 21,
   "metadata": {},
   "outputs": [
    {
     "name": "stdout",
     "output_type": "stream",
     "text": [
      "================================\u001b[1m Human Message \u001b[0m=================================\n",
      "\n",
      "show all the node and relationships contained in the outward edges of the unersea cities node \n",
      "[{'name': 'documentLookup', 'args': {'arg': 'outward edges of the undersea cities node'}, 'id': 'call_4w4govbvjG8p25AbBGE9YvRr', 'type': 'tool_call'}]\n",
      "==================================\u001b[1m Ai Message \u001b[0m==================================\n",
      "Tool Calls:\n",
      "  documentLookup (call_4w4govbvjG8p25AbBGE9YvRr)\n",
      " Call ID: call_4w4govbvjG8p25AbBGE9YvRr\n",
      "  Args:\n",
      "    arg: outward edges of the undersea cities node\n",
      "\n",
      "\n",
      "\u001b[1m> Entering new GraphCypherQAChain chain...\u001b[0m\n"
     ]
    },
    {
     "name": "stderr",
     "output_type": "stream",
     "text": [
      "C:\\Users\\user\\AppData\\Roaming\\Python\\Python311\\site-packages\\langchain_core\\_api\\deprecation.py:139: LangChainDeprecationWarning: The method `Chain.run` was deprecated in langchain 0.1.0 and will be removed in 0.3.0. Use invoke instead.\n",
      "  warn_deprecated(\n"
     ]
    },
    {
     "name": "stdout",
     "output_type": "stream",
     "text": [
      "Generated Cypher:\n",
      "\u001b[32;1m\u001b[1;3mMATCH (:Buildings)-[:HAS_FACILITY]->(:Items)\n",
      "RETURN count(*) AS numberOfFacilities\u001b[0m\n",
      "Full Context:\n",
      "\u001b[32;1m\u001b[1;3m[{'numberOfFacilities': 2}]\u001b[0m\n",
      "\n",
      "\u001b[1m> Finished chain.\u001b[0m\n",
      "=================================\u001b[1m Tool Message \u001b[0m=================================\n",
      "Name: documentLookup\n",
      "\n",
      "\"I don't know the answer.\"\n",
      "[]\n",
      "==================================\u001b[1m Ai Message \u001b[0m==================================\n",
      "\n",
      "I couldn't find specific information about the outward edges of the undersea cities node. Would you like me to look up more general information about undersea cities for you?\n"
     ]
    }
   ],
   "source": [
    "user_input = \"show all the node and relationships contained in the outward edges of the unersea cities node \"\n",
    "config = {\"configurable\": {\"thread_id\": \"1\"}}\n",
    "# The config is the **second positional argument** to stream() or invoke()!\n",
    "events = state_graph.stream(\n",
    "    {\"messages\": [(\"user\", user_input)]}, config, stream_mode=\"values\"\n",
    ")\n",
    "for event in events:\n",
    "    if \"messages\" in event:\n",
    "        event[\"messages\"][-1].pretty_print()"
   ]
  },
  {
   "cell_type": "code",
   "execution_count": 22,
   "metadata": {},
   "outputs": [
    {
     "data": {
      "text/plain": [
       "StateSnapshot(values={'messages': [HumanMessage(content='show all the node and relationships contained in the outward edges of the unersea cities node ', id='2b5b9aa1-8f48-4512-846e-92acb38fe027'), AIMessage(content='', additional_kwargs={'tool_calls': [{'id': 'call_4w4govbvjG8p25AbBGE9YvRr', 'function': {'arguments': '{\"arg\":\"outward edges of the undersea cities node\"}', 'name': 'documentLookup'}, 'type': 'function'}]}, response_metadata={'token_usage': {'completion_tokens': 22, 'prompt_tokens': 263, 'total_tokens': 285}, 'model_name': 'gpt-35-turbo', 'system_fingerprint': 'fp_811936bd4f', 'finish_reason': 'tool_calls', 'logprobs': None, 'content_filter_results': {}}, id='run-03c84315-ee05-4d0e-b654-6e162bc8346f-0', tool_calls=[{'name': 'documentLookup', 'args': {'arg': 'outward edges of the undersea cities node'}, 'id': 'call_4w4govbvjG8p25AbBGE9YvRr', 'type': 'tool_call'}], usage_metadata={'input_tokens': 263, 'output_tokens': 22, 'total_tokens': 285}), ToolMessage(content='\"I don\\'t know the answer.\"', name='documentLookup', id='4e259cdb-bf5a-42b9-896a-c7651a459783', tool_call_id='call_4w4govbvjG8p25AbBGE9YvRr'), AIMessage(content=\"I couldn't find specific information about the outward edges of the undersea cities node. Would you like me to look up more general information about undersea cities for you?\", response_metadata={'token_usage': {'completion_tokens': 35, 'prompt_tokens': 300, 'total_tokens': 335}, 'model_name': 'gpt-35-turbo', 'system_fingerprint': 'fp_811936bd4f', 'finish_reason': 'stop', 'logprobs': None, 'content_filter_results': {}}, id='run-82a79cbf-3544-4720-9aed-2501f719b4b5-0', usage_metadata={'input_tokens': 300, 'output_tokens': 35, 'total_tokens': 335})], 'custom_ouput': False}, next=(), config={'configurable': {'thread_id': '1', 'thread_ts': '1ef51af9-3533-6cc9-8003-5c89ef44d6cb'}}, metadata={'source': 'loop', 'writes': {'chatbot': {'messages': [AIMessage(content=\"I couldn't find specific information about the outward edges of the undersea cities node. Would you like me to look up more general information about undersea cities for you?\", response_metadata={'token_usage': {'completion_tokens': 35, 'prompt_tokens': 300, 'total_tokens': 335}, 'model_name': 'gpt-35-turbo', 'system_fingerprint': 'fp_811936bd4f', 'finish_reason': 'stop', 'logprobs': None, 'content_filter_results': {}}, id='run-82a79cbf-3544-4720-9aed-2501f719b4b5-0', usage_metadata={'input_tokens': 300, 'output_tokens': 35, 'total_tokens': 335})], 'custom_ouput': False}}, 'step': 3}, created_at='2024-08-03T15:46:40.460717+00:00', parent_config={'configurable': {'thread_id': '1', 'thread_ts': '1ef51af9-2ead-62be-8002-31f591a8b05c'}})"
      ]
     },
     "execution_count": 22,
     "metadata": {},
     "output_type": "execute_result"
    }
   ],
   "source": [
    "snapshot = state_graph.get_state(config)\n",
    "snapshot"
   ]
  },
  {
   "cell_type": "code",
   "execution_count": 23,
   "metadata": {},
   "outputs": [
    {
     "data": {
      "text/plain": [
       "()"
      ]
     },
     "execution_count": 23,
     "metadata": {},
     "output_type": "execute_result"
    },
    {
     "ename": "",
     "evalue": "",
     "output_type": "error",
     "traceback": [
      "\u001b[1;31mThe Kernel crashed while executing code in the current cell or a previous cell. \n",
      "\u001b[1;31mPlease review the code in the cell(s) to identify a possible cause of the failure. \n",
      "\u001b[1;31mClick <a href='https://aka.ms/vscodeJupyterKernelCrash'>here</a> for more info. \n",
      "\u001b[1;31mView Jupyter <a href='command:jupyter.viewOutput'>log</a> for further details."
     ]
    }
   ],
   "source": [
    "snapshot.next"
   ]
  },
  {
   "cell_type": "code",
   "execution_count": null,
   "metadata": {},
   "outputs": [],
   "source": []
  }
 ],
 "metadata": {
  "kernelspec": {
   "display_name": "LM-train",
   "language": "python",
   "name": "python3"
  },
  "language_info": {
   "codemirror_mode": {
    "name": "ipython",
    "version": 3
   },
   "file_extension": ".py",
   "mimetype": "text/x-python",
   "name": "python",
   "nbconvert_exporter": "python",
   "pygments_lexer": "ipython3",
   "version": "3.11.9"
  }
 },
 "nbformat": 4,
 "nbformat_minor": 2
}
